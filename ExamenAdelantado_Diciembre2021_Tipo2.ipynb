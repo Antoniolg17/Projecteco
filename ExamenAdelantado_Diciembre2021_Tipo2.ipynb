{
 "cells": [
  {
   "cell_type": "markdown",
   "metadata": {},
   "source": [
    "# Examen Adelantado - Econometría\n",
    "# TIPO 2\n",
    "\n",
    "## 20 de Diciembre 2021"
   ]
  },
  {
   "cell_type": "markdown",
   "metadata": {},
   "source": [
    "APELLIDOS, NOMBRE: GORLAT MUÑOZ, HÉCTOR"
   ]
  },
  {
   "cell_type": "markdown",
   "metadata": {},
   "source": [
    "### El fichero con las respuestas y códigos debe enviarse a la tarea creada en PRADO para tal efecto."
   ]
  },
  {
   "cell_type": "markdown",
   "metadata": {},
   "source": [
    "La base de datos **peliculas.xlsx** cuenta con una muestra de datos sobre de 651 películas estrenadas entre 1970 y 2014, y fue creada para analizar los factores que influyen en la valoración de la audiencia sobre una película. La base de datos cuenta con las siguientes variables:\n",
    "- _Valoracion_: Puntuación obtenida por la audiencia de la película.\n",
    "- _Largometraje_: Toma el valor **1** si es un largometraje y **0** si es corto, documental, ...\n",
    "- _Drama_: **1** si es un drama y **0** si no.\n",
    "- _Comedia_: **1** si es comedia y **0** si no.\n",
    "-  _Duracion_: en minutos de la pelicula\n",
    "- _Estreno_a_: año de estreno de la pelicula.\n",
    "- _Estreno_m_: mes de estreno de la película.\n",
    "- _Puntos_Critica_: valoración de los críticos en visionado previo a estreno.\n",
    "- _Nominacion_MejorPelicula_: si la película fue nominada a mejor película en los Oscars.\n",
    "- _Premio_MejorActor_: si el actor principal  fue premiado con Óscar a mejor actor.\n",
    "- _Premio_MejorActriz_: si la actriz principal fue premiada con Óscar a mejor actriz.\n",
    "- _Premio_MejorPelicula_: si la película fue premiada como mejor película en los Oscars.\n",
    "- _Premio_MejorDirector_: si la película fue premiada a mejor película en los Oscars.\n",
    "- _SigloXXI_: **1** si la película se estrenó en el siglo XXI y **0** si se estrenó en el siglo XX.\n",
    "- _ID_: título de la película evaluada.\n",
    "\n",
    "Los datos están disponibles en el fichero **peliculas.xlsx**."
   ]
  },
  {
   "cell_type": "markdown",
   "metadata": {},
   "source": [
    "### Ejercicio 1\n",
    "Especifica un modelo de regresión lineal para explicar las valoraciones de las películas en base a $4$ de las variables disponibles (excepto _PremioMejorDirector_). Estima el modelo especificado e interpreta los coeficientes estiados obtenidos."
   ]
  },
  {
   "cell_type": "code",
   "execution_count": 5,
   "metadata": {},
   "outputs": [
    {
     "data": {
      "text/html": [
       "<table class=\"simpletable\">\n",
       "<caption>OLS Regression Results</caption>\n",
       "<tr>\n",
       "  <th>Dep. Variable:</th>       <td>Valoracion</td>    <th>  R-squared:         </th> <td>   0.610</td> \n",
       "</tr>\n",
       "<tr>\n",
       "  <th>Model:</th>                   <td>OLS</td>       <th>  Adj. R-squared:    </th> <td>   0.608</td> \n",
       "</tr>\n",
       "<tr>\n",
       "  <th>Method:</th>             <td>Least Squares</td>  <th>  F-statistic:       </th> <td>   253.0</td> \n",
       "</tr>\n",
       "<tr>\n",
       "  <th>Date:</th>             <td>Mon, 20 Dec 2021</td> <th>  Prob (F-statistic):</th> <td>1.19e-130</td>\n",
       "</tr>\n",
       "<tr>\n",
       "  <th>Time:</th>                 <td>08:50:33</td>     <th>  Log-Likelihood:    </th> <td> -669.37</td> \n",
       "</tr>\n",
       "<tr>\n",
       "  <th>No. Observations:</th>      <td>   651</td>      <th>  AIC:               </th> <td>   1349.</td> \n",
       "</tr>\n",
       "<tr>\n",
       "  <th>Df Residuals:</th>          <td>   646</td>      <th>  BIC:               </th> <td>   1371.</td> \n",
       "</tr>\n",
       "<tr>\n",
       "  <th>Df Model:</th>              <td>     4</td>      <th>                     </th>     <td> </td>    \n",
       "</tr>\n",
       "<tr>\n",
       "  <th>Covariance Type:</th>      <td>nonrobust</td>    <th>                     </th>     <td> </td>    \n",
       "</tr>\n",
       "</table>\n",
       "<table class=\"simpletable\">\n",
       "<tr>\n",
       "         <td></td>           <th>coef</th>     <th>std err</th>      <th>t</th>      <th>P>|t|</th>  <th>[0.025</th>    <th>0.975]</th>  \n",
       "</tr>\n",
       "<tr>\n",
       "  <th>const</th>          <td>    4.1739</td> <td>    0.157</td> <td>   26.634</td> <td> 0.000</td> <td>    3.866</td> <td>    4.482</td>\n",
       "</tr>\n",
       "<tr>\n",
       "  <th>Puntos_Critica</th> <td>    0.0277</td> <td>    0.001</td> <td>   28.426</td> <td> 0.000</td> <td>    0.026</td> <td>    0.030</td>\n",
       "</tr>\n",
       "<tr>\n",
       "  <th>Drama</th>          <td>   -0.0339</td> <td>    0.059</td> <td>   -0.578</td> <td> 0.563</td> <td>   -0.149</td> <td>    0.081</td>\n",
       "</tr>\n",
       "<tr>\n",
       "  <th>Comedia</th>        <td>   -0.2712</td> <td>    0.086</td> <td>   -3.154</td> <td> 0.002</td> <td>   -0.440</td> <td>   -0.102</td>\n",
       "</tr>\n",
       "<tr>\n",
       "  <th>Duracion</th>       <td>    0.0073</td> <td>    0.001</td> <td>    5.111</td> <td> 0.000</td> <td>    0.005</td> <td>    0.010</td>\n",
       "</tr>\n",
       "</table>\n",
       "<table class=\"simpletable\">\n",
       "<tr>\n",
       "  <th>Omnibus:</th>       <td>51.451</td> <th>  Durbin-Watson:     </th> <td>   2.070</td>\n",
       "</tr>\n",
       "<tr>\n",
       "  <th>Prob(Omnibus):</th> <td> 0.000</td> <th>  Jarque-Bera (JB):  </th> <td>  85.317</td>\n",
       "</tr>\n",
       "<tr>\n",
       "  <th>Skew:</th>          <td>-0.549</td> <th>  Prob(JB):          </th> <td>2.98e-19</td>\n",
       "</tr>\n",
       "<tr>\n",
       "  <th>Kurtosis:</th>      <td> 4.392</td> <th>  Cond. No.          </th> <td>    734.</td>\n",
       "</tr>\n",
       "</table><br/><br/>Warnings:<br/>[1] Standard Errors assume that the covariance matrix of the errors is correctly specified."
      ],
      "text/plain": [
       "<class 'statsmodels.iolib.summary.Summary'>\n",
       "\"\"\"\n",
       "                            OLS Regression Results                            \n",
       "==============================================================================\n",
       "Dep. Variable:             Valoracion   R-squared:                       0.610\n",
       "Model:                            OLS   Adj. R-squared:                  0.608\n",
       "Method:                 Least Squares   F-statistic:                     253.0\n",
       "Date:                Mon, 20 Dec 2021   Prob (F-statistic):          1.19e-130\n",
       "Time:                        08:50:33   Log-Likelihood:                -669.37\n",
       "No. Observations:                 651   AIC:                             1349.\n",
       "Df Residuals:                     646   BIC:                             1371.\n",
       "Df Model:                           4                                         \n",
       "Covariance Type:            nonrobust                                         \n",
       "==================================================================================\n",
       "                     coef    std err          t      P>|t|      [0.025      0.975]\n",
       "----------------------------------------------------------------------------------\n",
       "const              4.1739      0.157     26.634      0.000       3.866       4.482\n",
       "Puntos_Critica     0.0277      0.001     28.426      0.000       0.026       0.030\n",
       "Drama             -0.0339      0.059     -0.578      0.563      -0.149       0.081\n",
       "Comedia           -0.2712      0.086     -3.154      0.002      -0.440      -0.102\n",
       "Duracion           0.0073      0.001      5.111      0.000       0.005       0.010\n",
       "==============================================================================\n",
       "Omnibus:                       51.451   Durbin-Watson:                   2.070\n",
       "Prob(Omnibus):                  0.000   Jarque-Bera (JB):               85.317\n",
       "Skew:                          -0.549   Prob(JB):                     2.98e-19\n",
       "Kurtosis:                       4.392   Cond. No.                         734.\n",
       "==============================================================================\n",
       "\n",
       "Warnings:\n",
       "[1] Standard Errors assume that the covariance matrix of the errors is correctly specified.\n",
       "\"\"\""
      ]
     },
     "execution_count": 5,
     "metadata": {},
     "output_type": "execute_result"
    }
   ],
   "source": [
    "##Código:\n",
    "import pandas as pd\n",
    "import statsmodels.api as sm #para mco\n",
    "\n",
    "datos = pd.read_excel('peliculas.xlsx')\n",
    "#print(datos)\n",
    "\n",
    "y=datos['Valoracion']\n",
    "X=datos[['Puntos_Critica','Drama','Comedia','Duracion']]\n",
    "\n",
    "mco = sm.OLS(y,sm.add_constant(X)).fit()\n",
    "mco.summary()\n"
   ]
  },
  {
   "cell_type": "markdown",
   "metadata": {},
   "source": [
    "Respuesta:\n",
    "Con este modelo he querido explicar la valoración de las películas(variable endógena), en función de cuatro variables exógenas, tal y como nos dice el enunciado. Las variables escogidas son: Los puntos de crítica, Drama, Comedia y la duración.\n",
    "Según los resultados obtenidos de la regresión lineal, he obtenido un modelo globalmente significativo, ya que el valor      Prob(F-statitic) es inferior a 0.05, y además, he obtenido un ajuste aceptable, ya que el valor R^2 es mayor que 0.5.\n",
    "\n",
    "En cuanto a las variables exógenas, todas ellas menos Drama, han resultado significativas para nuestro modelo, con valores de P_valor inferiores a 0.05. Por tanto, podemos interpretar que tanto los puntos de crítica como la duración de la película, afectan positivamente a la valoración, con coeficientes de 0.0277 y 0.0073. En cambio, que la película sea del género comedia perjudica a la valoración, con un coeficiente de -0.2712.\n",
    "\n",
    "\n"
   ]
  },
  {
   "cell_type": "markdown",
   "metadata": {},
   "source": [
    "### Ejercicio 2\n",
    "\n",
    "Justifica que supone la significación global e individual del modelo. Indica los resultados de estos tests en el modelo obtenido tanto a un nivel de significación del 5% como del 10%. ¿Se obtienen conclusiones coherentes de estos?"
   ]
  },
  {
   "cell_type": "code",
   "execution_count": null,
   "metadata": {},
   "outputs": [],
   "source": [
    "##Código:\n",
    "\n"
   ]
  },
  {
   "cell_type": "markdown",
   "metadata": {},
   "source": [
    "Respuesta: \n",
    "La significación global e individual del modelo indica que este esta correctamente definido y que además, nuestras variables explican el comportamiento de la variable endógena.\n",
    "\n",
    "Como ya he explicado en el ejercicio 1, la significación global del modelo podemos comprobarla con el valor Prob(f-statistic)\n",
    "que efectivamente es menor que 0.05, y la significación individual se cumple con las variables donde su p_valor es menor que 0.05, que en nuestro modelo podemos ver que son todas menos la variable Drama. Esto explicado sería para una significación del 5%, donde nuestro modelo es muy significativo. Con una significación del 10%, se podrían empezar a hacer estimaciones, pero sin tanta exactitud.\n",
    "\n"
   ]
  },
  {
   "cell_type": "markdown",
   "metadata": {},
   "source": [
    "### Ejercicio 3\n",
    "\n",
    "Aplica algún test de hipótesis que te permita contrastar si existen diferencias entre el comportamiento de las valoraciones en base a las variables escogidas entre aquellas películas nominadas a los Óscars y las que no. Explica el test que has aplicado e interpreta los resultados obtenidos."
   ]
  },
  {
   "cell_type": "code",
   "execution_count": 10,
   "metadata": {},
   "outputs": [
    {
     "name": "stdout",
     "output_type": "stream",
     "text": [
      "0.9227255274327784 2.2280609714381163\n"
     ]
    }
   ],
   "source": [
    "##Código:\n",
    "# Voy a realizar el test de Chow para ver si existen diferencias entre estar nominado o no.\n",
    "datos = pd.read_excel('peliculas.xlsx')\n",
    "#print(datos)\n",
    "SCR=mco.ssr  #SCR del total de los datos\n",
    "\n",
    "datos_oscar=datos[datos[\"Nominacion_MejorPelicula\"]==1]  #modelo para películas nominadas a oscar\n",
    "Y_oscar=datos_oscar[\"Valoracion\"]\n",
    "X_oscar=datos_oscar[[\"Puntos_Critica\", \"Drama\", \"Comedia\",\"Duracion\"]]\n",
    "mco_oscar=sm.OLS(Y_oscar, sm.add_constant(X_oscar)).fit()\n",
    "SCRoscar=mco_oscar.ssr\n",
    "\n",
    "\n",
    "datos_Noscar=datos[datos[\"Nominacion_MejorPelicula\"]==0]  #modelo para películas no nominadas a oscar\n",
    "Y_Noscar=datos_Noscar[\"Valoracion\"]\n",
    "X_Noscar=datos_Noscar[[\"Puntos_Critica\", \"Drama\", \"Comedia\",\"Duracion\"]]\n",
    "mco_Noscar=sm.OLS(Y_Noscar, sm.add_constant(X_Noscar)).fit()\n",
    "SCRNoscar=mco_Noscar.ssr\n",
    "\n",
    "\n",
    "\n",
    "n=len(datos)\n",
    "k=4 #numero variables\n",
    "\n",
    "Fexp=(n-2*k-2)/(k+1) * (SCR - (SCRoscar+SCRNoscar))/(SCRoscar+SCRNoscar)\n",
    "Fexp\n",
    "\n",
    "from scipy import stats\n",
    "Fteo= stats.f.ppf(1-0.05, k+1, n-2*k-1)\n",
    "\n",
    "print(Fexp, Fteo) #se rechaza que oscar y Noscar son iguales si Fexp>Fteo\n",
    "#print(datos)\n"
   ]
  },
  {
   "cell_type": "markdown",
   "metadata": {},
   "source": [
    "Respuesta: \n",
    "Para contrastar si existen diferencias entre el comportamiento de las valoraciones en base a nuestras variables exógenas según estén nominadas o no a un oscar, he utilizado el test de Chow. Este test, exige la suma de los cuadrados de los residuos (SCR) global del modelo, y de los modelos independientes según tengan oscar o no, con estos valores podemos obtener los estadísticos Fexp y Fteo, con los que podemos resolver la hipótesis. \n",
    "\n",
    "En este caso, se cumple la hipótesis que afirma que oscar y Noscar son iguales, ya que Fexp<Fteo.\n",
    "\n",
    "\n"
   ]
  },
  {
   "cell_type": "markdown",
   "metadata": {},
   "source": [
    "### Ejercicio 4\n",
    "\n",
    "Analiza si los datos presentan un problema de multicolinealidad con las medidas de detección que conozcas, y en caso de existir este problema, explica cómo puedes paliar el problema en el modelo."
   ]
  },
  {
   "cell_type": "code",
   "execution_count": 15,
   "metadata": {},
   "outputs": [
    {
     "data": {
      "text/plain": [
       "[5.2088556192142095, 2.2661417914307087, 1.2951985081894157, 6.698257038812623]"
      ]
     },
     "execution_count": 15,
     "metadata": {},
     "output_type": "execute_result"
    }
   ],
   "source": [
    "##Código:\n",
    "mco.condition_number\n",
    "\n",
    "import statsmodels.stats.outliers_influence as oi\n",
    "\n",
    "vifs=[oi.variance_inflation_factor(X.values, i) for i in range(X.shape[1])]  # factor de inflación de la varianza\n",
    "vifs\n"
   ]
  },
  {
   "cell_type": "markdown",
   "metadata": {},
   "source": [
    "Respuesta: \n",
    "Para estudiar si existe un problema de multicolinealidad, he utilizado dos métodos, el número de condición y el factor de inflación de la varianza. \n",
    "En el primer caso, el número resultado es muy superior a 30, indicando que la multicolinealidad puede ser preocupante.\n",
    "En cambio, cuando estudiamos el factor de inflación, podemos observar que todos los valores son inferiores a 10, afirmando que no existen problemas de multicolinealidad.\n",
    "\n",
    "El valor del número de condición podría corregirse centrando las variables, ya que el problema podría ser de multicolinealidad aproximada no esencial(relación de las variables exógenas con la constante)\n",
    "\n",
    "\n"
   ]
  },
  {
   "cell_type": "markdown",
   "metadata": {},
   "source": [
    "### Ejercicio 5\n",
    "\n",
    "Extrae los residuos de tu modelo y chequea si estos siguen una distribución normal gráficamente y con algún test de hipótesis ¿Que consecuencias tendría en tu modelo que no se cumpliera esta hipótesis? Justifica detalladamente la respuesta."
   ]
  },
  {
   "cell_type": "code",
   "execution_count": 20,
   "metadata": {},
   "outputs": [
    {
     "data": {
      "image/png": "[encoded data removed]",
      "text/plain": [
       "<Figure size 432x288 with 1 Axes>"
      ]
     },
     "metadata": {
      "needs_background": "light"
     },
     "output_type": "display_data"
    },
    {
     "data": {
      "image/png": "[encoded data removed]",
      "text/plain": [
       "<Figure size 432x288 with 1 Axes>"
      ]
     },
     "metadata": {
      "needs_background": "light"
     },
     "output_type": "display_data"
    }
   ],
   "source": [
    "##Código:\n",
    "from matplotlib import pyplot\n",
    "from statsmodels.graphics.gofplots import qqplot\n",
    "pyplot.hist(mco.resid)\n",
    "pyplot.show()\n",
    "qqplot(mco.resid, line='s')\n",
    "pyplot.show()\n",
    "\n"
   ]
  },
  {
   "cell_type": "markdown",
   "metadata": {},
   "source": [
    "Respuesta:\n",
    "Como podemos observar en los gráficos, claramente los residuos de nuestro modelo siguen una distribución normal. Si no se cumpliese esta hipótesis, con nuestro modelo no podríamos realizar la inferencia sobre los parámetros de nuestro modelo, es estrictamente necesario que nuestros residuos sigan una distribución normal de media 0 y varianza constante.\n",
    "\n"
   ]
  },
  {
   "cell_type": "markdown",
   "metadata": {},
   "source": [
    "### Ejercicio 6\n",
    "\n",
    "¿En qué consiste el test de Glejser y qué permite detectar? Aplícalo a tus datos con alguna de las variables que sospeches que podría suponer un problema y comenta los resultados obtenidos."
   ]
  },
  {
   "cell_type": "code",
   "execution_count": 36,
   "metadata": {},
   "outputs": [
    {
     "name": "stdout",
     "output_type": "stream",
     "text": [
      "h: 1 -> pvalt: 0.008104883493182613 ;R2: 0.01075156720790238\n",
      "h: 2 -> pvalt: 0.02784369031719312 ;R2: 0.007432099251322044\n",
      "h: 3 -> pvalt: 0.14828622973589944 ;R2: 0.003217313306533187\n",
      "h: 4 -> pvalt: 0.5550659247357157 ;R2: 0.0005369713627882966\n",
      "h: 5 -> pvalt: 0.9013233002389909 ;R2: 2.3705936219142743e-05\n",
      "h: 6 -> pvalt: 0.5424864785323931 ;R2: 0.0005718497473691242\n"
     ]
    }
   ],
   "source": [
    "##Código:\n",
    "z = X['Duracion']\n",
    "#print(z)\n",
    "for h in [1,2,3,4,5,6]:\n",
    "    mcoaux = sm.OLS(abs(mco.resid), sm.add_constant(z**h)).fit()\n",
    "    pval = mcoaux.pvalues[1]\n",
    "    print('h:',h,'-> pvalt:',pval,';R2:',mcoaux.rsquared)"
   ]
  },
  {
   "cell_type": "markdown",
   "metadata": {},
   "source": [
    "Respuesta:\n",
    "El test de Glejser consite en analizar individualmente durante un intervalo de h(parámetro que contiene este test, que se eleva a las variables) las variables de nuestro modelo para saber donde está nuestro problema de heteroscedasticidad.\n",
    "Como resultado de este test, obtendríamos el valor h=1, ya que es el valor p_valor significativo con R^2 mayor. Este problema podríamos arreglarlo mediante mínimos cuadrados ponderados.\n",
    "\n",
    "\n"
   ]
  },
  {
   "cell_type": "markdown",
   "metadata": {},
   "source": [
    "### Ejercicio 7\n",
    "\n",
    "Explica en qué consiste el problema de Autocorrelación. Justifica si existe este problema en tu modelo, y en caso afirmativo, aplica alguna técnica para su corrección."
   ]
  },
  {
   "cell_type": "code",
   "execution_count": 18,
   "metadata": {},
   "outputs": [
    {
     "data": {
      "text/plain": [
       "2.0704542275737614"
      ]
     },
     "execution_count": 18,
     "metadata": {},
     "output_type": "execute_result"
    }
   ],
   "source": [
    "##Código:\n",
    "from statsmodels.stats.stattools import durbin_watson\n",
    "dw=durbin_watson(mco.resid)  #para realizar el test\n",
    "dw\n",
    "\n"
   ]
  },
  {
   "cell_type": "markdown",
   "metadata": {},
   "source": [
    "Respuesta:\n",
    "La Autocorrelación es un problema de especificación del modelo que puede significar que existen ciclos y tendencias, relaciones no lineales en el modelo y relaciones dinámicas.\n",
    "Para conocer si tenemos o no un problema de este tipo, podemos utilizar el coeficiente de Durbin-Watson. Como este valor nos sale aproximadamente 2, no tenemos problemas de autocorrelación. No tenemos que corregir nada.\n",
    "\n",
    "\n"
   ]
  },
  {
   "cell_type": "code",
   "execution_count": null,
   "metadata": {},
   "outputs": [],
   "source": []
  }
 ],
 "metadata": {
  "kernelspec": {
   "display_name": "Python 3",
   "language": "python",
   "name": "python3"
  },
  "language_info": {
   "codemirror_mode": {
    "name": "ipython",
    "version": 3
   },
   "file_extension": ".py",
   "mimetype": "text/x-python",
   "name": "python",
   "nbconvert_exporter": "python",
   "pygments_lexer": "ipython3",
   "version": "3.7.3"
  }
 },
 "nbformat": 4,
 "nbformat_minor": 5
}
