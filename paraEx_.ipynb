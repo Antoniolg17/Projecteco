{
 "cells": [
  {
   "cell_type": "code",
   "execution_count": null,
   "metadata": {},
   "outputs": [],
   "source": [
    "import numpy as np\n",
    "import pandas as pd  #manejo de datos\n",
    "import statsmodels.api as sm #para mco\n",
    "import statsmodels.formula.api as smf\n",
    "import matplotlib.pylab as plt #para gráficos\n",
    "\n",
    "from wooldridge import *\n"
   ]
  },
  {
   "cell_type": "code",
   "execution_count": null,
   "metadata": {},
   "outputs": [],
   "source": [
    "#Para introducir datos, lectura del modelo...\n",
    "\n",
    "from wooldridge import *\n",
    "datos=dataWoo(\"hprice1\") #para datos de wooldridge\n",
    "y = datos['lprice'] #variable endógena \n",
    "X = datos[['llotsize', 'lsqrft', 'bdrms']] #Variables exógenas\n",
    "\n",
    "\n",
    "mco = sm.OLS(y,sm.add_constant(X)).fit()\n",
    "mco.summary()\n",
    "\n",
    "#Para excel o csv, y utilizando pandas\n",
    "\n",
    "datos = pd.read_csv('Theil.csv', delimiter=\";\")  #los datos deben estar en la misma carpeta que el archivo de jupyter\n",
    "\n",
    "datos= pd.read_excel ('stock.xlsx') #Leer datos de archivo excel\n",
    "\n",
    "#Para aplicar logaritmos a las variables\n",
    "datos[\"lY\"] = np.log(datos[\"Y\"])\n",
    "datos[\"lX1\"] = np.log(datos[\"X1\"]) #Estamos creando nuevos datos\n",
    "datos[\"lX2\"] = np.log(datos[\"X2\"])\n",
    "\n",
    "y=datos[\"lY\"] \n",
    "X=datos[[\"lX1\",\"lX2\"]]  #Definimos estos datos nuevos como variables"
   ]
  },
  {
   "cell_type": "code",
   "execution_count": null,
   "metadata": {},
   "outputs": [],
   "source": [
    "# MULTICOLINEALIDAD\n",
    "\n",
    "#COMO ENCONTRARLA\n",
    "mco.condition_number # Número de Condición, >20 moderado, >30 preocupante,,,,relación exógenas y cte, multi.aprox.no esencial\n",
    "\n",
    "import statsmodels.stats.outliers_influence as oi\n",
    "\n",
    "vifs=[oi.variance_inflation_factor(X.values, i) for i in range(X.shape[1])]  # si son menores que 10, no hay multicolinealidad\n",
    "vifs            #no relaciona exógenas con la cte\n",
    "\n",
    "#TIPOS\n",
    "#  sistemática... correlación lineal entre exógenas\n",
    "#  errática... problema numérico... aumento de la muestra\n",
    "#  no esencial... relación lineal exógenas con cte... hay que centrar las variables\n",
    "#  esencial... relación lineal entre las variables exógenas"
   ]
  },
  {
   "cell_type": "code",
   "execution_count": null,
   "metadata": {},
   "outputs": [],
   "source": [
    "# CORRELACIÓN LINEAL\n",
    "corr_matrix=np.corrcoef(X.T)\n",
    "print(corr_matrix)\n",
    "import statsmodels.graphics.api as smg\n",
    "smg.plot_corr(corr_matrix, xnames=[\"\",\"\", \"\", \"\",\"\",\"\"])\n",
    "plt.show()"
   ]
  },
  {
   "cell_type": "code",
   "execution_count": null,
   "metadata": {},
   "outputs": [],
   "source": [
    "# HETEROSCEDASTICIDAD\n",
    "import statsmodels.stats.api as sms\n",
    "BP=sms.het_breuschpagan(mco.resid,mco.model.exog)#['Lagrange multiplier statistic', 'p-value', 'f-value', 'f p-value']\n",
    "W=sms.het_white(mco.resid,mco.model.exog)\n",
    "sms.het_goldfeldquandt(mco.resid, mco.model.exog) #['F statistic', 'p-value']\n",
    "\n",
    "labels = ['LM Statistic', 'LM-Test p-value', 'F-Statistic', 'F-Test p-value']\n",
    "print(dict(zip(labels, bp_test)))\n",
    "print(dict(zip(labels, white_test)))\n",
    "\n",
    "# También podemos intuir este problema con gráficos de residuos y de dispersión\n",
    "# Para arreglar la heteroscedasticidad realizamos el test de glejser para saber donde está el problema\n",
    "#una vez realizado el test, aplicamos mínimos cuadrados poderados, scrip de basedatos"
   ]
  },
  {
   "cell_type": "code",
   "execution_count": null,
   "metadata": {},
   "outputs": [],
   "source": [
    "# AUTOCORRELACIÓN\n",
    "\n",
    "from statsmodels.stats.stattools import durbin_watson\n",
    "dw=durbin_watson(mco.resid)  #para realizar el test\n",
    "\n",
    "#si tenemos problemas de autocorrelación...\n",
    "#DW aprox 0, entonces correlacion positiva\n",
    "#DW aprox 2, entonces no hay correlacion\n",
    "#DW aprox 4, entonces correacion negativa\n",
    "# Para arreglarlo...\n",
    "\n",
    "rho= 1 - dw/2\n",
    "\n",
    "mco_autocorr=sm.GLSAR(y, sm.add_constant(X), rho=rho).iterative_fit(maxiter=1000)  #Modificación Prais-Winsten\n",
    "mco_autocorr.summary()"
   ]
  },
  {
   "cell_type": "code",
   "execution_count": null,
   "metadata": {},
   "outputs": [],
   "source": [
    "# UN TEST DE CHOW\n",
    "#realizamos este test para analizar si existen diferencias entre los resultados de dos muestras\n",
    "\n",
    "datos1987=datos10[datos10[\"year\"]==1987]  #modelo para 1987\n",
    "Y1987=datos1987[\"infmort\"]\n",
    "X1987=datos1987[[\"lpcinc\", \"lpopul\", \"lphysic\"]]\n",
    "mco1987=sm.OLS(Y1987, sm.add_constant(X1987)).fit()\n",
    "SCR1987=mco1987.ssr\n",
    "\n",
    "\n",
    "datos1990=datos10[datos10[\"year\"]==1990]  #modelo para 1990\n",
    "Y1990=datos1990[\"infmort\"]\n",
    "X1990=datos1990[[\"lpcinc\", \"lpopul\", \"lphysic\"]]\n",
    "mco1990=sm.OLS(Y1990, sm.add_constant(X1990)).fit()\n",
    "SCR1990=mco1990.ssr\n",
    "\n",
    "\n",
    "n=len(datos10)\n",
    "k=3 #numero variables\n",
    "\n",
    "Fexp=(n-2*k-2)/(k+1) * (SCR - (SCR1987+SCR1990))/(SCR1987+SCR1990)\n",
    "Fexp\n",
    "\n",
    "from scipy import stats\n",
    "Fteo= stats.f.ppf(1-0.05, k+1, n-2*k-1)\n",
    "\n",
    "print(Fexp, Fteo) #se rechaza que 1990 y 1987 son iguales si Fexp>Fteo\n",
    "print(datos10)"
   ]
  },
  {
   "cell_type": "code",
   "execution_count": null,
   "metadata": {},
   "outputs": [],
   "source": [
    "#Para realizar tests de hipotesis R*B=r\n",
    "mco7.f_test(([0,1,1],1))\n",
    "#Al no poder rechazar la hip. nula porque el p-valor es más grande que 0.05. Damos por valido que 𝛽1+𝛽2=1.\n",
    "#dentro de [] ponemos los coeficientes de los beta, y a la derecha ponemos el r\n",
    "#Si la suma de los beta es 1, un incremento conjunto de los X de 1% aumenta un 1% la Y"
   ]
  },
  {
   "cell_type": "code",
   "execution_count": null,
   "metadata": {},
   "outputs": [],
   "source": [
    "import numpy as np\n",
    "A= np.matrix([[0.114,-0.0005,-0.0002],[-0.005,0.00002,-0.00002],[-0.0002,-0.00002,0.00003]],float)\n",
    "B= np.matrix([[443.818],[66792.89],[53125.748]])\n",
    "CoefB= A.dot(B)\n",
    "#print(A)\n",
    "#print(B)\n",
    "from scipy import stats\n",
    "print(CoefB)"
   ]
  }
 ],
 "metadata": {
  "kernelspec": {
   "display_name": "Python 3",
   "language": "python",
   "name": "python3"
  },
  "language_info": {
   "codemirror_mode": {
    "name": "ipython",
    "version": 3
   },
   "file_extension": ".py",
   "mimetype": "text/x-python",
   "name": "python",
   "nbconvert_exporter": "python",
   "pygments_lexer": "ipython3",
   "version": "3.7.3"
  }
 },
 "nbformat": 4,
 "nbformat_minor": 2
}
