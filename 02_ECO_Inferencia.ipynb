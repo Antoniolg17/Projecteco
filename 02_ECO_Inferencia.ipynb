{
 "cells": [
  {
   "cell_type": "markdown",
   "metadata": {},
   "source": [
    "# Práctica 2: Estimación e Inferencia en Modelos de Regresión Lineales"
   ]
  },
  {
   "cell_type": "markdown",
   "metadata": {},
   "source": [
    "## Cuestiones"
   ]
  },
  {
   "cell_type": "code",
   "execution_count": 7,
   "metadata": {},
   "outputs": [],
   "source": [
    "import numpy as np\n",
    "import statsmodels.api as sm\n",
    "import statsmodels.formula.api as smf\n",
    "import matplotlib.pylab as plt\n",
    "from wooldridge import *"
   ]
  },
  {
   "cell_type": "markdown",
   "metadata": {},
   "source": [
    "1. Utilizando la base de datos **hprice1**:\n",
    "    - Estimar el modelo $\\log {\\rm price} = \\beta_0 + \\beta_1 \\log {\\rm lotsize} + \\beta_2 \\log{\\rm sqrft} + \\beta_3 {\\rm bdrms} + u$. Interpretar los resultados obtenidos.\n",
    "    - Obtener la predicción de $\\log {\\rm price}$ cuando ${\\rm lotsize}=20000$, ${\\rm sqrft}=2500$ y ${\\rm bdrms}=4$.\n",
    "    - Para explicar la variación de ${\\rm price}$, se considera también el modelo: ${\\rm price} = \\beta^\\prime_0 + \\beta_1^\\prime {\\rm sqrtft} + \\beta_2^\\prime {\\rm bdrms} + u^\\prime$. ¿Que modelo es más útil?"
   ]
  },
  {
   "cell_type": "code",
   "execution_count": 8,
   "metadata": {},
   "outputs": [
    {
     "data": {
      "text/html": [
       "<table class=\"simpletable\">\n",
       "<caption>OLS Regression Results</caption>\n",
       "<tr>\n",
       "  <th>Dep. Variable:</th>         <td>lprice</td>      <th>  R-squared:         </th> <td>   0.643</td>\n",
       "</tr>\n",
       "<tr>\n",
       "  <th>Model:</th>                   <td>OLS</td>       <th>  Adj. R-squared:    </th> <td>   0.630</td>\n",
       "</tr>\n",
       "<tr>\n",
       "  <th>Method:</th>             <td>Least Squares</td>  <th>  F-statistic:       </th> <td>   50.42</td>\n",
       "</tr>\n",
       "<tr>\n",
       "  <th>Date:</th>             <td>Mon, 25 Oct 2021</td> <th>  Prob (F-statistic):</th> <td>9.74e-19</td>\n",
       "</tr>\n",
       "<tr>\n",
       "  <th>Time:</th>                 <td>09:50:33</td>     <th>  Log-Likelihood:    </th> <td>  25.861</td>\n",
       "</tr>\n",
       "<tr>\n",
       "  <th>No. Observations:</th>      <td>    88</td>      <th>  AIC:               </th> <td>  -43.72</td>\n",
       "</tr>\n",
       "<tr>\n",
       "  <th>Df Residuals:</th>          <td>    84</td>      <th>  BIC:               </th> <td>  -33.81</td>\n",
       "</tr>\n",
       "<tr>\n",
       "  <th>Df Model:</th>              <td>     3</td>      <th>                     </th>     <td> </td>   \n",
       "</tr>\n",
       "<tr>\n",
       "  <th>Covariance Type:</th>      <td>nonrobust</td>    <th>                     </th>     <td> </td>   \n",
       "</tr>\n",
       "</table>\n",
       "<table class=\"simpletable\">\n",
       "<tr>\n",
       "      <td></td>        <th>coef</th>     <th>std err</th>      <th>t</th>      <th>P>|t|</th>  <th>[0.025</th>    <th>0.975]</th>  \n",
       "</tr>\n",
       "<tr>\n",
       "  <th>const</th>    <td>   -1.2970</td> <td>    0.651</td> <td>   -1.992</td> <td> 0.050</td> <td>   -2.592</td> <td>   -0.002</td>\n",
       "</tr>\n",
       "<tr>\n",
       "  <th>llotsize</th> <td>    0.1680</td> <td>    0.038</td> <td>    4.388</td> <td> 0.000</td> <td>    0.092</td> <td>    0.244</td>\n",
       "</tr>\n",
       "<tr>\n",
       "  <th>lsqrft</th>   <td>    0.7002</td> <td>    0.093</td> <td>    7.540</td> <td> 0.000</td> <td>    0.516</td> <td>    0.885</td>\n",
       "</tr>\n",
       "<tr>\n",
       "  <th>bdrms</th>    <td>    0.0370</td> <td>    0.028</td> <td>    1.342</td> <td> 0.183</td> <td>   -0.018</td> <td>    0.092</td>\n",
       "</tr>\n",
       "</table>\n",
       "<table class=\"simpletable\">\n",
       "<tr>\n",
       "  <th>Omnibus:</th>       <td>12.060</td> <th>  Durbin-Watson:     </th> <td>   2.089</td>\n",
       "</tr>\n",
       "<tr>\n",
       "  <th>Prob(Omnibus):</th> <td> 0.002</td> <th>  Jarque-Bera (JB):  </th> <td>  34.889</td>\n",
       "</tr>\n",
       "<tr>\n",
       "  <th>Skew:</th>          <td>-0.188</td> <th>  Prob(JB):          </th> <td>2.65e-08</td>\n",
       "</tr>\n",
       "<tr>\n",
       "  <th>Kurtosis:</th>      <td> 6.062</td> <th>  Cond. No.          </th> <td>    410.</td>\n",
       "</tr>\n",
       "</table><br/><br/>Notes:<br/>[1] Standard Errors assume that the covariance matrix of the errors is correctly specified."
      ],
      "text/plain": [
       "<class 'statsmodels.iolib.summary.Summary'>\n",
       "\"\"\"\n",
       "                            OLS Regression Results                            \n",
       "==============================================================================\n",
       "Dep. Variable:                 lprice   R-squared:                       0.643\n",
       "Model:                            OLS   Adj. R-squared:                  0.630\n",
       "Method:                 Least Squares   F-statistic:                     50.42\n",
       "Date:                Mon, 25 Oct 2021   Prob (F-statistic):           9.74e-19\n",
       "Time:                        09:50:33   Log-Likelihood:                 25.861\n",
       "No. Observations:                  88   AIC:                            -43.72\n",
       "Df Residuals:                      84   BIC:                            -33.81\n",
       "Df Model:                           3                                         \n",
       "Covariance Type:            nonrobust                                         \n",
       "==============================================================================\n",
       "                 coef    std err          t      P>|t|      [0.025      0.975]\n",
       "------------------------------------------------------------------------------\n",
       "const         -1.2970      0.651     -1.992      0.050      -2.592      -0.002\n",
       "llotsize       0.1680      0.038      4.388      0.000       0.092       0.244\n",
       "lsqrft         0.7002      0.093      7.540      0.000       0.516       0.885\n",
       "bdrms          0.0370      0.028      1.342      0.183      -0.018       0.092\n",
       "==============================================================================\n",
       "Omnibus:                       12.060   Durbin-Watson:                   2.089\n",
       "Prob(Omnibus):                  0.002   Jarque-Bera (JB):               34.889\n",
       "Skew:                          -0.188   Prob(JB):                     2.65e-08\n",
       "Kurtosis:                       6.062   Cond. No.                         410.\n",
       "==============================================================================\n",
       "\n",
       "Notes:\n",
       "[1] Standard Errors assume that the covariance matrix of the errors is correctly specified.\n",
       "\"\"\""
      ]
     },
     "execution_count": 8,
     "metadata": {},
     "output_type": "execute_result"
    }
   ],
   "source": [
    "datos=dataWoo(\"hprice1\")\n",
    "y=datos[\"lprice\"]\n",
    "X=datos[[\"llotsize\", \"lsqrft\", \"bdrms\"]]\n",
    "\n",
    "mco1= sm.OLS(y, sm.add_constant(X)).fit()\n",
    "mco1.summary()"
   ]
  },
  {
   "cell_type": "code",
   "execution_count": null,
   "metadata": {},
   "outputs": [],
   "source": [
    "y1=datos[\"price\"]\n",
    "X1=datos[[\"sqrft\", \"bdrms\"]]\n",
    "\n"
   ]
  },
  {
   "cell_type": "markdown",
   "metadata": {},
   "source": [
    "2. Usando los datos de **vote1**:\n",
    "    - Estimar el modelo $voteA = \\beta_0 + \\beta_1 \\log(expendA) + \\beta_2 \\log(expendB) + \\beta_3 prtystrA + u$.\n",
    "    - ¿Cuál es la interpretación de $\\beta_1$?\n",
    "    - ¿Los gastos de A afectan a los resultados de las elecciones? ¿Y los gastos de B?\n",
    "    - Analizar la correcta especificación *lineal* del modelo con los Tests de Harvey-Collier y Reset de Ramsey.\n",
    "    - Establecer la hipótesis nula de que un aumento de $1\\%$ de aumento en los gastos de A es compensado por un aumento del $1\\%$ en los gastos de B. Contrastar estadísticamente."
   ]
  },
  {
   "cell_type": "code",
   "execution_count": 9,
   "metadata": {},
   "outputs": [],
   "source": [
    "#dataWoo(\"vote1\", description=True)\n",
    "\n",
    "datos=dataWoo(\"vote1\")\n",
    "y=datos[\"voteA\"]\n",
    "X=datos[[\"lexpendA\", \"lexpendB\", \"prtystrA\"]]\n",
    "\n"
   ]
  },
  {
   "cell_type": "code",
   "execution_count": 10,
   "metadata": {},
   "outputs": [],
   "source": [
    "import statsmodels.stats.diagnostic as diagn #Para el test de Harvey-Collier\n",
    "\n",
    "#diagn.linear_harvey_collier(mco3)\n"
   ]
  },
  {
   "cell_type": "code",
   "execution_count": 11,
   "metadata": {},
   "outputs": [],
   "source": [
    "import statsmodels.stats.outliers_influence as oi #Para el test RESET de Ramsey\n",
    "\n",
    "\n",
    "#rr=oi.reset_ramsey(mco3, degree=2)\n",
    "#print(rr)\n"
   ]
  },
  {
   "cell_type": "markdown",
   "metadata": {},
   "source": [
    "\n",
    "\n",
    "\n",
    "\n",
    "\n",
    "\n",
    "3. Con los datos disponibles en **mlb1** se pretende analizar el efecto de diversas características de los jugadores de la liga de béisbol americana en su salario. Se propone el siguiente modelo:\n",
    "$$\n",
    "\\log (salary) = \\beta_0 + \\beta_1 years + \\beta_2 gamesyr + \\beta_3 bavg + \\beta_4 hrunsyr + \\beta_5 rbisyr + \\beta_6 runsyr + \\beta_7 fldperc + \\beta_8 allstar + \\beta_9 black + \\beta_{10} hispan + \\beta_{11} black \\times percblck + \\beta_{12} hispan \\times perchisp + u\n",
    "$$\n",
    "    - Estimar el modelo.\n",
    "    - ¿Son las variables $black$, $hispan$, $black\\times percblck$ y $hispan\\times perchisp$ conjuntamente significativas?\n",
    "    - ¿Cómo interpretarías los coeficientes de las variables \"raciales\"?\n",
    "    \n",
    "    \n",
    "    \n",
    "    \n",
    "    \n",
    "    \n",
    "    "
   ]
  },
  {
   "cell_type": "code",
   "execution_count": 12,
   "metadata": {},
   "outputs": [],
   "source": [
    "datos=dataWoo(\"mlb1\")\n"
   ]
  },
  {
   "cell_type": "code",
   "execution_count": 13,
   "metadata": {},
   "outputs": [],
   "source": [
    "#dataWoo(\"mlb1\", description=True)\n",
    "datos=dataWoo(\"mlb1\")\n"
   ]
  },
  {
   "cell_type": "markdown",
   "metadata": {},
   "source": [
    "4. Utilizar los datos de **gpa3** para analizar los promedios generales de calificaciones ($cumgpa$) de atletas universitarios en base a la puntuación del examen de acceso a la universidad ($sat$), el percentil alcanzado en bachiller ($hsperc$) y las horas de cursos universitarios ($totrs$):\n",
    "$$\n",
    "cumgpa = \\beta_0 + \\beta_1 sat + \\beta_2 hsperc + \\beta_3 tothrs + u\n",
    "$$\n",
    "    - Estimar el modelo anterior e interpreta los resultados.\n",
    "    - ¿Está el modelo adecuadamente espeficicado de forma lineal según los tests de Harvey-Collier y RESET de Ramsey?\n",
    "    - Para determinar si hay diferencias en las calificaciones entre hombres y mujeres del modelo anterior, considera el modelo con interacciones:\n",
    "    $$\n",
    "cumgpa = \\delta_0 + \\delta_1 sat + \\delta_2 hsperc + \\delta_3 tothrs + \\delta_4 female + \\delta_5 female\\times sat + \\delta_6 female \\times hsperc + \\delta_7 female \\times tothrs +  u\n",
    "$$  \n",
    "Estima el modelo e interpreta los coeficientes obtenidos.\n",
    "    - Contrasta la hipótesis $H_0: \\delta_4=\\delta_5=\\delta_6=\\delta_7=0$. ¿Qué se puede deducir de lo obtenido?"
   ]
  },
  {
   "cell_type": "code",
   "execution_count": 20,
   "metadata": {
    "scrolled": true
   },
   "outputs": [
    {
     "name": "stdout",
     "output_type": "stream",
     "text": [
      "name of dataset: gpa3\n",
      "no of variables: 23\n",
      "no of observations: 732\n",
      "\n",
      "+----------+------------------------------+\n",
      "| variable | label                        |\n",
      "+----------+------------------------------+\n",
      "| term     | fall = 1, spring = 2         |\n",
      "| sat      | SAT score                    |\n",
      "| tothrs   | total hours prior to term    |\n",
      "| cumgpa   | cumulative GPA               |\n",
      "| season   | =1 if in season              |\n",
      "| frstsem  | =1 if student's 1st semester |\n",
      "| crsgpa   | weighted course GPA          |\n",
      "| verbmath | verbal SAT to math SAT ratio |\n",
      "| trmgpa   | term GPA                     |\n",
      "| hssize   | size h.s. grad. class        |\n",
      "| hsrank   | rank in h.s. class           |\n",
      "| id       | student identifier           |\n",
      "| spring   | =1 if spring term            |\n",
      "| female   | =1 if female                 |\n",
      "| black    | =1 if black                  |\n",
      "| white    | =1 if white                  |\n",
      "| ctrmgpa  | change in trmgpa             |\n",
      "| ctothrs  | change in total hours        |\n",
      "| ccrsgpa  | change in crsgpa             |\n",
      "| ccrspop  | change in crspop             |\n",
      "| cseason  | change in season             |\n",
      "| hsperc   | percentile in h.s.           |\n",
      "| football | =1 if football player        |\n",
      "+----------+------------------------------+\n",
      "\n",
      "See GPA2.RAW\n"
     ]
    },
    {
     "ename": "AttributeError",
     "evalue": "module 'statsmodels.api' has no attribute 'addconstant'",
     "output_type": "error",
     "traceback": [
      "\u001b[1;31m---------------------------------------------------------------------------\u001b[0m",
      "\u001b[1;31mAttributeError\u001b[0m                            Traceback (most recent call last)",
      "\u001b[1;32m<ipython-input-20-32a9d386c009>\u001b[0m in \u001b[0;36m<module>\u001b[1;34m\u001b[0m\n\u001b[0;32m      6\u001b[0m \u001b[0mX\u001b[0m\u001b[1;33m=\u001b[0m\u001b[0mdatos\u001b[0m\u001b[1;33m[\u001b[0m\u001b[1;33m[\u001b[0m\u001b[1;34m\"sat\"\u001b[0m\u001b[1;33m,\u001b[0m \u001b[1;34m\"hsperc\"\u001b[0m\u001b[1;33m,\u001b[0m \u001b[1;34m\"tothrs\"\u001b[0m\u001b[1;33m]\u001b[0m\u001b[1;33m]\u001b[0m\u001b[1;33m\u001b[0m\u001b[1;33m\u001b[0m\u001b[0m\n\u001b[0;32m      7\u001b[0m \u001b[1;33m\u001b[0m\u001b[0m\n\u001b[1;32m----> 8\u001b[1;33m \u001b[0mmco5\u001b[0m \u001b[1;33m=\u001b[0m \u001b[0msm\u001b[0m\u001b[1;33m.\u001b[0m\u001b[0mOLS\u001b[0m\u001b[1;33m(\u001b[0m\u001b[0my\u001b[0m\u001b[1;33m,\u001b[0m \u001b[0msm\u001b[0m\u001b[1;33m.\u001b[0m\u001b[0maddconstant\u001b[0m\u001b[1;33m(\u001b[0m\u001b[0mx\u001b[0m\u001b[1;33m)\u001b[0m\u001b[1;33m)\u001b[0m\u001b[1;33m.\u001b[0m\u001b[0mfit\u001b[0m\u001b[1;33m(\u001b[0m\u001b[1;33m)\u001b[0m\u001b[1;33m\u001b[0m\u001b[1;33m\u001b[0m\u001b[0m\n\u001b[0m\u001b[0;32m      9\u001b[0m \u001b[0mmco5\u001b[0m\u001b[1;33m.\u001b[0m\u001b[0msummary\u001b[0m\u001b[1;33m(\u001b[0m\u001b[1;33m)\u001b[0m\u001b[1;33m\u001b[0m\u001b[1;33m\u001b[0m\u001b[0m\n\u001b[0;32m     10\u001b[0m \u001b[1;33m\u001b[0m\u001b[0m\n",
      "\u001b[1;31mAttributeError\u001b[0m: module 'statsmodels.api' has no attribute 'addconstant'"
     ]
    }
   ],
   "source": [
    "dataWoo(\"gpa3\", description=True)\n",
    "\n",
    "datos=dataWoo(\"gpa3\")\n",
    "\n",
    "y=datos[\"cumgpa\"]\n",
    "X=datos[[\"sat\", \"hsperc\", \"tothrs\"]]\n",
    "\n",
    "mco5 = sm.OLS(y, sm.addconstant(x)).fit()\n",
    "mco5.summary()\n",
    "\n",
    "import statsmodels.stats.outliers_influence as oi #Para el test RESET de Ramsey\n",
    "import statsmodels.stats.diagnostic as diagn #Para el test de Harvey-Collier\n",
    "\n",
    "\n"
   ]
  },
  {
   "cell_type": "markdown",
   "metadata": {},
   "source": [
    "5. Usando los datos de **sleep75**, y sabiendo que el modelo de interés es:\n",
    "$$\n",
    "sleep = \\beta_0 + \\beta_1 totwrk + \\beta_2 educ + \\beta_3 age + \\beta_4 age^2 + \\beta_5 yngkid + u\n",
    "$$\n",
    "    - Estimar el modelo por separado para hombres y mujeres y deducir su hay diferencias importantes entre los dos modelos estimados. Obtener las sumas de cuadrados de los residuos $SCR_H$ y $SCR_M$.\n",
    "    - Estimar el modelo sin distinguir por género, y obtener $SCR$. Construir el estadístico:\n",
    "    $$\n",
    "    F_{exp} = \\frac{n-2k -2}{k+1} \\frac{SCR - (SCR_H+SCR_M)}{SCR_H + SCR_M} \\sim F_{k+1, n-2k-1}\n",
    "    $$\n",
    "    donde $n$ es el número total de observaciones y $k$ el número de variables del modelo ($5$).\n",
    "    - El estadístico $F_{exp}$ (**Test de Chow**) permite contrastar la hipótesis de que coeficientes de los modelos para hombres y mujeres coinciden. Comprobar si se rechaza o no esta hipótesis."
   ]
  },
  {
   "cell_type": "code",
   "execution_count": null,
   "metadata": {},
   "outputs": [],
   "source": [
    "datos=dataWoo(\"sleep75\")\n",
    "\n",
    "datosH=datos[datos[\"male\"]==1]\n",
    "\n",
    "yH=datosH[\"sleep\"]\n",
    "XH=datosH[[\"totwrk\", \"educ\", \"age\", \"agesq\", \"yngkid\"]]\n",
    "\n",
    "\n",
    "datosM=datos[datos[\"male\"]==0]\n",
    "\n",
    "yM=datosM[\"sleep\"]\n",
    "XM=datosM[[\"totwrk\", \"educ\", \"age\", \"agesq\", \"yngkid\"]]\n",
    "\n",
    "\n",
    "\n",
    "\n"
   ]
  },
  {
   "cell_type": "markdown",
   "metadata": {},
   "source": [
    "6. Aplicar el test de Chow del ejercicio anterior para determinar si existen diferencias entre géneros al analizar el modelo $\\log (wage) = \\beta_0 + \\beta_1 educ + \\beta_2 exper + \\beta_3 exper^2 + \\beta_4 tenure + \\beta_5 tenure^2 + u$ con los datos de **wage1**."
   ]
  },
  {
   "cell_type": "code",
   "execution_count": null,
   "metadata": {},
   "outputs": [],
   "source": [
    "datos"
   ]
  },
  {
   "cell_type": "markdown",
   "metadata": {},
   "source": [
    "7. Utilizando **apple**:\n",
    "    - Definir la variable binaria $eco=1$ si $ecolbs>0$ y $eco=0$ y si $ecolbs=0$. ¿Qué indica esa variable? ¿Cuál es la proporcion de familias que asegura que comprará manzanas ecoetiquetadas?\n",
    "    - Estimar el modelo $eco = \\beta_0 + \\beta_1 ecoprc + \\beta_2 regprc +\\beta_3 faminc + \\beta_4 hhsize + \\beta_5 educ + \\beta_6 age + u$. Interpretar $\\beta_1$ y $\\beta_2$.\n",
    "    - ¿Son conjuntamente significativas las variables que no corresponden a precios del modelo? ¿Qué variable independiente, además de las relacionadas con precios, parecen tener unefecto más importante sobre la decisión de comprar manzanas ecológicas? ¿Tiene sentido?\n",
    "    - Sustituir en el modelo la variable $faminc$ por $\\log (faminc)$ y estimar el nuevo modelo. ¿Qué modelo se ajusta mejor?\n",
    "    - Utilizar el Test de Chow para determinar si hay diferencias entre hombres y mujeres en su intención de comprar manzanas ecológicas."
   ]
  },
  {
   "cell_type": "code",
   "execution_count": null,
   "metadata": {},
   "outputs": [],
   "source": [
    "datos=dataWoo(\"apple\")\n",
    "#datos[datos[\"ecolbs\"] ==0, \"eco\"] = 0\n",
    "datos[\"eco\"]=0\n",
    "datos.loc[datos['ecolbs']>0.01, 'eco'] = 1\n",
    "datos[\"lfaminc\"]=np.log(datos[\"faminc\"])"
   ]
  },
  {
   "cell_type": "code",
   "execution_count": null,
   "metadata": {},
   "outputs": [],
   "source": [
    "datos"
   ]
  }
 ],
 "metadata": {
  "kernelspec": {
   "display_name": "Python 3",
   "language": "python",
   "name": "python3"
  },
  "language_info": {
   "codemirror_mode": {
    "name": "ipython",
    "version": 3
   },
   "file_extension": ".py",
   "mimetype": "text/x-python",
   "name": "python",
   "nbconvert_exporter": "python",
   "pygments_lexer": "ipython3",
   "version": "3.8.8"
  }
 },
 "nbformat": 4,
 "nbformat_minor": 2
}
