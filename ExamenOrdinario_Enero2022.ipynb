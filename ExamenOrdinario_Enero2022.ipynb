{
 "cells": [
  {
   "cell_type": "markdown",
   "id": "85eee4f1",
   "metadata": {},
   "source": [
    "# Examen Ordinario - Econometría\n",
    "\n",
    "## 21 de Enero 2022"
   ]
  },
  {
   "cell_type": "markdown",
   "id": "20381cfa",
   "metadata": {},
   "source": [
    "APELLIDOS, NOMBRE: "
   ]
  },
  {
   "cell_type": "markdown",
   "id": "73a203ad",
   "metadata": {},
   "source": [
    "### El fichero con las respuestas y códigos debe enviarse a la tarea creada en PRADO para tal efecto."
   ]
  },
  {
   "cell_type": "markdown",
   "id": "f05fb4f4",
   "metadata": {},
   "source": [
    "La base de datos **coches.xlsx** cuenta con una muestra de datos sobre de 205 coches. La base de datos cuenta con las siguientes información:\n",
    "- _Precio_: Precio de venta del coche (en euros).\n",
    "- _Diesel_: Toma el valor **1** si elcoche es diésel y **0** si es gasolina.\n",
    "- _Turbo_: **1** si el coche turbo y **0** si es estándard.\n",
    "- _Puertas_: Número de puertas del coche.\n",
    "-  _DistanciaEjes_: Distancia entre los ejes.\n",
    "- _Largo_, _Ancho_ y _Alto_: largo, ancho y alto del coche.\n",
    "- _Cilindros_: número de cilindros\n",
    "- _Motor_: Tamaño del motor.\n",
    "- _TasaCompresion_: Tasa de compresión del coche.\n",
    "- _PotenciaCV_: Potencia del coche en CV.\n",
    "- _GamaA_: **1** si el coche es una marca de gama alta y **0** si no.\n",
    "\n",
    "Responde de forma justificada a las siguientes cuestiones (cada una de ellas tiene una valoración de 1 punto)."
   ]
  },
  {
   "cell_type": "markdown",
   "id": "275096cf",
   "metadata": {},
   "source": [
    "### Ejercicio 1\n",
    "Especifica un modelo de regresión lineal para explicar el precio de los coches de la base de datos en base a $3$ de las variables disponibles (excepto _GamaA_). Estima el modelo especificado e interpreta los coeficientes estiados obtenidos."
   ]
  },
  {
   "cell_type": "code",
   "execution_count": 4,
   "id": "114ffb27",
   "metadata": {},
   "outputs": [],
   "source": [
    "##Código:\n",
    "\n"
   ]
  },
  {
   "cell_type": "markdown",
   "id": "4e853b45",
   "metadata": {},
   "source": [
    "Respuesta:\n",
    "\n",
    "\n"
   ]
  },
  {
   "cell_type": "markdown",
   "id": "7afaa2a9",
   "metadata": {},
   "source": [
    "### Ejercicio 2\n",
    "\n",
    "Aplica algún test de hipótesis que te permita contrastar si existen diferencias entre el comportamiento de las valoraciones en base a las variables escogidas para los coches de gama alta y los que no. Explica el test que has aplicado e interpreta los resultados obtenidos."
   ]
  },
  {
   "cell_type": "code",
   "execution_count": null,
   "id": "24617920",
   "metadata": {},
   "outputs": [],
   "source": [
    "##Código:\n",
    "\n"
   ]
  },
  {
   "cell_type": "markdown",
   "id": "e6eff8f8",
   "metadata": {},
   "source": [
    "Respuesta:\n",
    "\n",
    "\n"
   ]
  },
  {
   "cell_type": "markdown",
   "id": "5f9d3dea",
   "metadata": {},
   "source": [
    "### Ejercicio 3\n",
    "\n",
    "Analiza si los datos presentan un problema de multicolinealidad con las medidas de detección que conozcas, y en caso de existir este problema, explica cómo puedes paliar el problema en el modelo."
   ]
  },
  {
   "cell_type": "code",
   "execution_count": null,
   "id": "cc2a02c6",
   "metadata": {},
   "outputs": [],
   "source": [
    "##Código:\n",
    "\n"
   ]
  },
  {
   "cell_type": "markdown",
   "id": "242383e3",
   "metadata": {},
   "source": [
    "Respuesta:\n",
    "\n",
    "\n"
   ]
  },
  {
   "cell_type": "markdown",
   "id": "30f1ea02",
   "metadata": {},
   "source": [
    "### Ejercicio 4\n",
    "\n",
    "Extrae los residuos de tu modelo y chequea si estos siguen una distribución normal gráficamente y con algún test de hipótesis ¿Que consecuencias tendría en tu modelo que no se cumpliera esta hipótesis? Justifica detalladamente la respuesta."
   ]
  },
  {
   "cell_type": "code",
   "execution_count": null,
   "id": "234d943e",
   "metadata": {},
   "outputs": [],
   "source": [
    "##Código:\n",
    "\n"
   ]
  },
  {
   "cell_type": "markdown",
   "id": "909e82b2",
   "metadata": {},
   "source": [
    "Respuesta:\n",
    "\n",
    "\n"
   ]
  },
  {
   "cell_type": "markdown",
   "id": "408423eb",
   "metadata": {},
   "source": [
    "### Ejercicio 5\n",
    "\n",
    "¿En qué consiste el test de Glejser y qué permite detectar? Aplícalo a tus datos con alguna de las variables que sospeches que podría suponer un problema y comenta los resultados obtenidos."
   ]
  },
  {
   "cell_type": "code",
   "execution_count": null,
   "id": "4df319d1",
   "metadata": {},
   "outputs": [],
   "source": [
    "##Código:\n",
    "\n"
   ]
  },
  {
   "cell_type": "markdown",
   "id": "020da9f8",
   "metadata": {},
   "source": [
    "Respuesta:\n",
    "\n",
    "\n"
   ]
  },
  {
   "cell_type": "markdown",
   "id": "9ffe93b4",
   "metadata": {},
   "source": [
    "### Ejercicio 6\n",
    "\n",
    "Explica en qué consiste el problema de Autocorrelación. Justifica si existe este problema en tu modelo, y en caso afirmativo, aplica alguna técnica para su corrección."
   ]
  },
  {
   "cell_type": "code",
   "execution_count": null,
   "id": "69ca0400",
   "metadata": {},
   "outputs": [],
   "source": [
    "##Código:\n",
    "\n"
   ]
  },
  {
   "cell_type": "markdown",
   "id": "0483fbd9",
   "metadata": {},
   "source": [
    "Respuesta:\n",
    "\n",
    "\n"
   ]
  },
  {
   "cell_type": "markdown",
   "id": "d9409047",
   "metadata": {},
   "source": [
    "### Ejercicio 7\n",
    "\n",
    "Realiza una predicción utilizando tu modelo. Calcula los intervalos de confianza al 95% para el valor individual y el valor esperado de la predicción escogida. Comenta el resultado obtenido."
   ]
  },
  {
   "cell_type": "code",
   "execution_count": null,
   "id": "58a09a32",
   "metadata": {},
   "outputs": [],
   "source": [
    "##Código:\n",
    "\n"
   ]
  },
  {
   "cell_type": "markdown",
   "id": "f645170f",
   "metadata": {},
   "source": [
    "Respuesta:\n",
    "\n",
    "\n"
   ]
  }
 ],
 "metadata": {
  "kernelspec": {
   "display_name": "Python 3 (ipykernel)",
   "language": "python",
   "name": "python3"
  },
  "language_info": {
   "codemirror_mode": {
    "name": "ipython",
    "version": 3
   },
   "file_extension": ".py",
   "mimetype": "text/x-python",
   "name": "python",
   "nbconvert_exporter": "python",
   "pygments_lexer": "ipython3",
   "version": "3.8.10"
  }
 },
 "nbformat": 4,
 "nbformat_minor": 5
}
